{
  "nbformat": 4,
  "nbformat_minor": 0,
  "metadata": {
    "colab": {
      "provenance": [],
      "include_colab_link": true
    },
    "kernelspec": {
      "name": "python3",
      "display_name": "Python 3"
    },
    "language_info": {
      "name": "python"
    }
  },
  "cells": [
    {
      "cell_type": "markdown",
      "metadata": {
        "id": "view-in-github",
        "colab_type": "text"
      },
      "source": [
        "<a href=\"https://colab.research.google.com/github/Kagitsune/Google-Colabs/blob/main/Fill_vocabs_sheet.ipynb\" target=\"_parent\"><img src=\"https://colab.research.google.com/assets/colab-badge.svg\" alt=\"Open In Colab\"/></a>"
      ]
    },
    {
      "cell_type": "code",
      "execution_count": null,
      "metadata": {
        "colab": {
          "base_uri": "https://localhost:8080/"
        },
        "id": "J0snTyNk9rwg",
        "outputId": "389e9d70-ef14-4998-f1f5-83f292c16b77"
      },
      "outputs": [
        {
          "output_type": "stream",
          "name": "stdout",
          "text": [
            "Requirement already satisfied: gspread in /usr/local/lib/python3.11/dist-packages (6.2.0)\n",
            "Requirement already satisfied: google-auth>=1.12.0 in /usr/local/lib/python3.11/dist-packages (from gspread) (2.38.0)\n",
            "Requirement already satisfied: google-auth-oauthlib>=0.4.1 in /usr/local/lib/python3.11/dist-packages (from gspread) (1.2.1)\n",
            "Requirement already satisfied: cachetools<6.0,>=2.0.0 in /usr/local/lib/python3.11/dist-packages (from google-auth>=1.12.0->gspread) (5.5.2)\n",
            "Requirement already satisfied: pyasn1-modules>=0.2.1 in /usr/local/lib/python3.11/dist-packages (from google-auth>=1.12.0->gspread) (0.4.1)\n",
            "Requirement already satisfied: rsa<5,>=3.1.4 in /usr/local/lib/python3.11/dist-packages (from google-auth>=1.12.0->gspread) (4.9)\n",
            "Requirement already satisfied: requests-oauthlib>=0.7.0 in /usr/local/lib/python3.11/dist-packages (from google-auth-oauthlib>=0.4.1->gspread) (2.0.0)\n",
            "Requirement already satisfied: pyasn1<0.7.0,>=0.4.6 in /usr/local/lib/python3.11/dist-packages (from pyasn1-modules>=0.2.1->google-auth>=1.12.0->gspread) (0.6.1)\n",
            "Requirement already satisfied: oauthlib>=3.0.0 in /usr/local/lib/python3.11/dist-packages (from requests-oauthlib>=0.7.0->google-auth-oauthlib>=0.4.1->gspread) (3.2.2)\n",
            "Requirement already satisfied: requests>=2.0.0 in /usr/local/lib/python3.11/dist-packages (from requests-oauthlib>=0.7.0->google-auth-oauthlib>=0.4.1->gspread) (2.32.3)\n",
            "Requirement already satisfied: charset-normalizer<4,>=2 in /usr/local/lib/python3.11/dist-packages (from requests>=2.0.0->requests-oauthlib>=0.7.0->google-auth-oauthlib>=0.4.1->gspread) (3.4.1)\n",
            "Requirement already satisfied: idna<4,>=2.5 in /usr/local/lib/python3.11/dist-packages (from requests>=2.0.0->requests-oauthlib>=0.7.0->google-auth-oauthlib>=0.4.1->gspread) (3.10)\n",
            "Requirement already satisfied: urllib3<3,>=1.21.1 in /usr/local/lib/python3.11/dist-packages (from requests>=2.0.0->requests-oauthlib>=0.7.0->google-auth-oauthlib>=0.4.1->gspread) (2.3.0)\n",
            "Requirement already satisfied: certifi>=2017.4.17 in /usr/local/lib/python3.11/dist-packages (from requests>=2.0.0->requests-oauthlib>=0.7.0->google-auth-oauthlib>=0.4.1->gspread) (2025.1.31)\n"
          ]
        }
      ],
      "source": [
        "!pip install gspread"
      ]
    },
    {
      "cell_type": "code",
      "source": [
        "from google.colab import auth\n",
        "from google.auth import default\n",
        "import gspread\n",
        "\n",
        "# Authenticate with Google Colab\n",
        "auth.authenticate_user()\n",
        "creds, _ = default()\n",
        "\n",
        "# Authorize the client\n",
        "client = gspread.authorize(creds)"
      ],
      "metadata": {
        "id": "3zALJLhO-JGD"
      },
      "execution_count": null,
      "outputs": []
    },
    {
      "cell_type": "code",
      "source": [
        "def get_user_input():\n",
        "    print(\"Please fill in the following details:\")\n",
        "    word = input(\"Word: \")\n",
        "    romaji = input(\"Romaji: \")\n",
        "    definition = input(\"Definition: \")\n",
        "    part_of_speech = input(\"Part of Speech (Noun, Verb, Adjective, Particle, Pronoun, Interjection, Phrase): \")\n",
        "    japanese_example = input(\"Japanese Example: \")\n",
        "    romaji_example = input(\"Romaji Example: \")\n",
        "    translation = input(\"Translation: \")\n",
        "\n",
        "    # Combine the Japanese example, Romaji, and Translation into one cell\n",
        "    sentence_example = f\"{japanese_example}\\n{romaji_example}\\n{translation}\"\n",
        "\n",
        "    return [word, romaji, definition, part_of_speech, sentence_example]"
      ],
      "metadata": {
        "id": "QX4fFsZT-LUs"
      },
      "execution_count": null,
      "outputs": []
    },
    {
      "cell_type": "code",
      "source": [
        "def add_to_google_sheet(sheet, data):\n",
        "    # Append the new row to the sheet\n",
        "    sheet.append_row(data)\n",
        "    print(\"Data has been successfully added to the Google Sheet!\")"
      ],
      "metadata": {
        "id": "pFq4fdTP-RJN"
      },
      "execution_count": null,
      "outputs": []
    },
    {
      "cell_type": "code",
      "source": [
        "def main():\n",
        "    # Open the Google Sheet by name\n",
        "    sheet_name = input(\"Enter the name of your Google Sheet: \")\n",
        "    try:\n",
        "        sheet = client.open(sheet_name).sheet1\n",
        "    except gspread.SpreadsheetNotFound:\n",
        "        print(f\"Error: Google Sheet '{sheet_name}' not found. Please check the name and try again.\")\n",
        "        return\n",
        "\n",
        "    while True:\n",
        "        # Get user input\n",
        "        new_entry = get_user_input()\n",
        "\n",
        "        # Add the new entry to the Google Sheet\n",
        "        add_to_google_sheet(sheet, new_entry)\n",
        "\n",
        "        # Ask if the user wants to add another entry\n",
        "        another = input(\"Do you want to add another entry? (yes/no): \").strip().lower()\n",
        "        if another != \"yes\":\n",
        "            print(\"Noicee 😉\")\n",
        "            break\n",
        "\n",
        "# Run the main script\n",
        "main()"
      ],
      "metadata": {
        "id": "xyMPAf4sDsnD",
        "colab": {
          "base_uri": "https://localhost:8080/"
        },
        "outputId": "a4dbafe6-7bda-4409-ea7b-59c0a8212a85"
      },
      "execution_count": null,
      "outputs": [
        {
          "output_type": "stream",
          "name": "stdout",
          "text": [
            "Enter the name of your Google Sheet: Dictionary\n",
            "Please fill in the following details:\n",
            "Word: aa\n",
            "Romaji: ss\n",
            "Definition: dd\n",
            "Part of Speech (Noun, Verb, Adjective, Particle, Pronoun, Interjection, Phrase): Verb\n",
            "Japanese Example: aa\n",
            "Romaji Example: aa\n",
            "Translation: aa\n",
            "Data has been successfully added to the Google Sheet!\n",
            "Do you want to add another entry? (yes/no): no\n",
            "Noicee 😉\n"
          ]
        }
      ]
    }
  ]
}